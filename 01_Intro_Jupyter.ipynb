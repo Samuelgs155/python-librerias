{
 "cells": [
  {
   "cell_type": "markdown",
   "metadata": {},
   "source": [
    "# Introducción a Python"
   ]
  },
  {
   "cell_type": "markdown",
   "metadata": {},
   "source": [
    "## Impresión"
   ]
  },
  {
   "cell_type": "code",
   "execution_count": 4,
   "metadata": {},
   "outputs": [
    {
     "name": "stdout",
     "output_type": "stream",
     "text": [
      "Hola Mundo\n"
     ]
    }
   ],
   "source": [
    "print(\"Hola Mundo\")"
   ]
  },
  {
   "cell_type": "code",
   "execution_count": 5,
   "metadata": {},
   "outputs": [
    {
     "name": "stdout",
     "output_type": "stream",
     "text": [
      "Hola Mundo\n"
     ]
    }
   ],
   "source": [
    "print(\"Hola\",\"Mundo\")"
   ]
  },
  {
   "cell_type": "code",
   "execution_count": 6,
   "metadata": {},
   "outputs": [
    {
     "name": "stdout",
     "output_type": "stream",
     "text": [
      "3\n"
     ]
    }
   ],
   "source": [
    "print(1+2)"
   ]
  },
  {
   "cell_type": "markdown",
   "metadata": {},
   "source": [
    "## Operaciones básicas"
   ]
  },
  {
   "cell_type": "code",
   "execution_count": 7,
   "metadata": {},
   "outputs": [
    {
     "name": "stdout",
     "output_type": "stream",
     "text": [
      "3\n"
     ]
    }
   ],
   "source": [
    "x=1\n",
    "y=2\n",
    "z=x+y\n",
    "print(z)"
   ]
  },
  {
   "cell_type": "code",
   "execution_count": 8,
   "metadata": {},
   "outputs": [
    {
     "name": "stdout",
     "output_type": "stream",
     "text": [
      "-1\n",
      "2\n",
      "0.5\n",
      "1 4\n"
     ]
    }
   ],
   "source": [
    "print(x-y)\n",
    "print(x*y)\n",
    "print(x/y)\n",
    "print(x**2,y**2)"
   ]
  },
  {
   "cell_type": "markdown",
   "metadata": {},
   "source": [
    "## Listas"
   ]
  },
  {
   "cell_type": "code",
   "execution_count": 9,
   "metadata": {},
   "outputs": [
    {
     "name": "stdout",
     "output_type": "stream",
     "text": [
      "[10, 43, 623, 12, 46, 12, 4, 5]\n"
     ]
    }
   ],
   "source": [
    "v=[10,43,623,12,46,12,4,5]\n",
    "print(v)"
   ]
  },
  {
   "cell_type": "code",
   "execution_count": 10,
   "metadata": {},
   "outputs": [
    {
     "data": {
      "text/plain": [
       "False"
      ]
     },
     "execution_count": 10,
     "metadata": {},
     "output_type": "execute_result"
    }
   ],
   "source": [
    "23 in v"
   ]
  },
  {
   "cell_type": "code",
   "execution_count": 11,
   "metadata": {},
   "outputs": [
    {
     "name": "stdout",
     "output_type": "stream",
     "text": [
      "46\n"
     ]
    }
   ],
   "source": [
    "print(v[4])"
   ]
  },
  {
   "cell_type": "code",
   "execution_count": 12,
   "metadata": {},
   "outputs": [
    {
     "name": "stdout",
     "output_type": "stream",
     "text": [
      "23\n",
      "[23, 43, 623, 12, 46, 12, 4, 5]\n",
      "True\n"
     ]
    }
   ],
   "source": [
    "v[0]=23\n",
    "print(v[0])\n",
    "print(v)\n",
    "print(23 in v)"
   ]
  },
  {
   "cell_type": "code",
   "execution_count": 14,
   "metadata": {},
   "outputs": [
    {
     "name": "stdout",
     "output_type": "stream",
     "text": [
      "longitud de v 8\n",
      "5\n"
     ]
    }
   ],
   "source": [
    "print(\"longitud de v\",len(v))\n",
    "print(v[7])"
   ]
  },
  {
   "cell_type": "code",
   "execution_count": 15,
   "metadata": {},
   "outputs": [
    {
     "name": "stdout",
     "output_type": "stream",
     "text": [
      "La suma de los dos primeros valores es:  66\n"
     ]
    }
   ],
   "source": [
    "print(\"La suma de los dos primeros valores es: \", v[0]+v[1])"
   ]
  },
  {
   "cell_type": "code",
   "execution_count": 16,
   "metadata": {},
   "outputs": [
    {
     "name": "stdout",
     "output_type": "stream",
     "text": [
      "623 4\n"
     ]
    }
   ],
   "source": [
    "print(max(v),min(v))"
   ]
  },
  {
   "cell_type": "code",
   "execution_count": 17,
   "metadata": {},
   "outputs": [
    {
     "name": "stdout",
     "output_type": "stream",
     "text": [
      "[23, 43, 623, 12, 46, 12, 4, 5]\n",
      "[23, 43, 623, 12, 46, 12, 4, 5, 43]\n"
     ]
    }
   ],
   "source": [
    "print(v)\n",
    "v.append(43)\n",
    "print(v)"
   ]
  },
  {
   "cell_type": "code",
   "execution_count": 18,
   "metadata": {},
   "outputs": [
    {
     "name": "stdout",
     "output_type": "stream",
     "text": [
      "[23, 43, 623, 12, 46, 12, 4, 5, 43]\n",
      "[23, 43, 623, 12, 46, 12, 4, 5, 43, 'hola']\n"
     ]
    }
   ],
   "source": [
    "print(v)\n",
    "v.append(\"hola\")\n",
    "print(v)"
   ]
  },
  {
   "cell_type": "code",
   "execution_count": 19,
   "metadata": {},
   "outputs": [
    {
     "name": "stdout",
     "output_type": "stream",
     "text": [
      "[23, 43, 623, 12, 46, 12, 4, 5, 43, 'hola']\n",
      "[23, 43, 623, 12, 46, 12, 4, 5, 43]\n"
     ]
    }
   ],
   "source": [
    "print(v)\n",
    "v.remove(\"hola\")\n",
    "print(v)"
   ]
  },
  {
   "cell_type": "code",
   "execution_count": 20,
   "metadata": {},
   "outputs": [
    {
     "name": "stdout",
     "output_type": "stream",
     "text": [
      "[23, 43, 623, 12, 46, 12, 4, 5, 43]\n",
      "[43, 623, 12, 46, 12, 4, 5, 43]\n",
      "23\n"
     ]
    }
   ],
   "source": [
    "print(v)\n",
    "a=v.pop(0)\n",
    "print(v)\n",
    "print(a)"
   ]
  },
  {
   "cell_type": "code",
   "execution_count": 21,
   "metadata": {},
   "outputs": [
    {
     "name": "stdout",
     "output_type": "stream",
     "text": [
      "[43, 623, 12, 46, 12, 4, 5, 43]\n",
      "[623, 46, 43, 43, 12, 12, 5, 4]\n"
     ]
    }
   ],
   "source": [
    "print(v)\n",
    "v.sort(reverse=True)\n",
    "print(v)"
   ]
  },
  {
   "cell_type": "markdown",
   "metadata": {},
   "source": [
    "## Tuples"
   ]
  },
  {
   "cell_type": "markdown",
   "metadata": {},
   "source": [
    "Las listas son iterables y mutables.\n",
    "Las tuplas son arreglos iterables pero no mutables."
   ]
  },
  {
   "cell_type": "code",
   "execution_count": 22,
   "metadata": {},
   "outputs": [
    {
     "name": "stdout",
     "output_type": "stream",
     "text": [
      "(1, 2, 3, 4, 5, 6, 7)\n"
     ]
    }
   ],
   "source": [
    "t1=(1,2,3,4,5,6,7)\n",
    "print(t1)"
   ]
  },
  {
   "cell_type": "code",
   "execution_count": 23,
   "metadata": {},
   "outputs": [
    {
     "data": {
      "text/plain": [
       "5"
      ]
     },
     "execution_count": 23,
     "metadata": {},
     "output_type": "execute_result"
    }
   ],
   "source": [
    "t1[4]"
   ]
  },
  {
   "cell_type": "code",
   "execution_count": 24,
   "metadata": {},
   "outputs": [
    {
     "ename": "TypeError",
     "evalue": "'tuple' object does not support item assignment",
     "output_type": "error",
     "traceback": [
      "\u001b[1;31m---------------------------------------------------------------------------\u001b[0m",
      "\u001b[1;31mTypeError\u001b[0m                                 Traceback (most recent call last)",
      "\u001b[1;32m<ipython-input-24-711b44eb3af2>\u001b[0m in \u001b[0;36m<module>\u001b[1;34m\u001b[0m\n\u001b[1;32m----> 1\u001b[1;33m \u001b[0mt1\u001b[0m\u001b[1;33m[\u001b[0m\u001b[1;36m0\u001b[0m\u001b[1;33m]\u001b[0m\u001b[1;33m=\u001b[0m\u001b[1;36m78\u001b[0m\u001b[1;33m\u001b[0m\u001b[1;33m\u001b[0m\u001b[0m\n\u001b[0m",
      "\u001b[1;31mTypeError\u001b[0m: 'tuple' object does not support item assignment"
     ]
    }
   ],
   "source": [
    "t1[0]=78"
   ]
  },
  {
   "cell_type": "markdown",
   "metadata": {},
   "source": [
    "## Ciclo FOR"
   ]
  },
  {
   "cell_type": "code",
   "execution_count": 33,
   "metadata": {},
   "outputs": [
    {
     "name": "stdout",
     "output_type": "stream",
     "text": [
      "10  - su cuadrado es:  100\n",
      "43  - su cuadrado es:  1849\n",
      "623  - su cuadrado es:  388129\n",
      "12  - su cuadrado es:  144\n",
      "46  - su cuadrado es:  2116\n",
      "12  - su cuadrado es:  144\n",
      "4  - su cuadrado es:  16\n",
      "5  - su cuadrado es:  25\n",
      "20  - su cuadrado es:  400\n",
      "34  - su cuadrado es:  1156\n"
     ]
    }
   ],
   "source": [
    "for i in v:\n",
    "    print(i, ' - su cuadrado es: ', i**2)"
   ]
  },
  {
   "cell_type": "code",
   "execution_count": 32,
   "metadata": {},
   "outputs": [
    {
     "name": "stdout",
     "output_type": "stream",
     "text": [
      "0  -  10\n",
      "1  -  43\n",
      "2  -  623\n",
      "3  -  12\n",
      "4  -  46\n",
      "5  -  12\n",
      "6  -  4\n",
      "7  -  5\n",
      "8  -  20\n",
      "9  -  34\n"
     ]
    }
   ],
   "source": [
    "v=[10,43,623,12,46,12,4,5,20,34]\n",
    "for i in range(10):\n",
    "    print(i,' - ', v[i])"
   ]
  },
  {
   "cell_type": "code",
   "execution_count": 34,
   "metadata": {},
   "outputs": [
    {
     "name": "stdout",
     "output_type": "stream",
     "text": [
      "[2, 4, 6, 8, 10, 12, 14, 16, 18]\n"
     ]
    }
   ],
   "source": [
    "print(list(range(2,20,2)))"
   ]
  },
  {
   "cell_type": "markdown",
   "metadata": {},
   "source": [
    "## Condicionales"
   ]
  },
  {
   "cell_type": "code",
   "execution_count": 35,
   "metadata": {},
   "outputs": [
    {
     "name": "stdout",
     "output_type": "stream",
     "text": [
      "[10, 11, 12, 13, 14, 15, 16, 17, 18, 19]\n",
      "[15, 16, 17, 18, 19, 20, 21, 22, 23]\n"
     ]
    }
   ],
   "source": [
    "v2=list(range(10,20))\n",
    "v3=list(range(15,24))\n",
    "print(v2)\n",
    "print(v3)"
   ]
  },
  {
   "cell_type": "code",
   "execution_count": 37,
   "metadata": {},
   "outputs": [
    {
     "name": "stdout",
     "output_type": "stream",
     "text": [
      "10\n",
      "9\n",
      "La longitud del v2 es 1 unidad mayor\n"
     ]
    }
   ],
   "source": [
    "print(len(v2))\n",
    "print(len(v3))\n",
    "if len(v2)==len(v3):\n",
    "    print(\"Misma longitud\")\n",
    "elif len(v2)==len(v3)+1:\n",
    "    print(\"La longitud del v2 es 1 unidad mayor\")\n",
    "else:\n",
    "    print(\"Diferente longitud\")"
   ]
  },
  {
   "cell_type": "markdown",
   "metadata": {},
   "source": [
    "## Combinacion entre FOR y condicional"
   ]
  },
  {
   "cell_type": "code",
   "execution_count": 38,
   "metadata": {},
   "outputs": [
    {
     "name": "stdout",
     "output_type": "stream",
     "text": [
      "15\n",
      "16\n",
      "17\n",
      "18\n",
      "19\n"
     ]
    }
   ],
   "source": [
    "v2=list(range(10,20))\n",
    "v3=list(range(15,25))\n",
    "if len(v2)==len(v3):\n",
    "    for i in range(0,len(v2)):\n",
    "        if v2[i] in v3:\n",
    "            print(v2[i])\n",
    "else:\n",
    "    print(\"Diferente longitud\")\n",
    "    "
   ]
  },
  {
   "cell_type": "markdown",
   "metadata": {},
   "source": [
    "## Aleatorios "
   ]
  },
  {
   "cell_type": "code",
   "execution_count": 1,
   "metadata": {},
   "outputs": [],
   "source": [
    "import random as rnd"
   ]
  },
  {
   "cell_type": "code",
   "execution_count": 2,
   "metadata": {},
   "outputs": [
    {
     "data": {
      "text/plain": [
       "0.40319600642113396"
      ]
     },
     "execution_count": 2,
     "metadata": {},
     "output_type": "execute_result"
    }
   ],
   "source": [
    "rnd.random()"
   ]
  },
  {
   "cell_type": "code",
   "execution_count": 3,
   "metadata": {},
   "outputs": [
    {
     "data": {
      "text/plain": [
       "1"
      ]
     },
     "execution_count": 3,
     "metadata": {},
     "output_type": "execute_result"
    }
   ],
   "source": [
    "rnd.randint(0,20)"
   ]
  },
  {
   "cell_type": "code",
   "execution_count": 4,
   "metadata": {},
   "outputs": [
    {
     "data": {
      "text/plain": [
       "[691, 564, 793, 566, 885, 533, 631, 849, 543, 598]"
      ]
     },
     "execution_count": 4,
     "metadata": {},
     "output_type": "execute_result"
    }
   ],
   "source": [
    "[rnd.randint(500,900) for i in range(0,10)]"
   ]
  },
  {
   "cell_type": "markdown",
   "metadata": {},
   "source": [
    "## Funciones"
   ]
  },
  {
   "cell_type": "code",
   "execution_count": 5,
   "metadata": {},
   "outputs": [],
   "source": [
    "def listaAletorios(limiteInf, limiteSup, tamanyo):\n",
    "    return [rnd.randint(limiteInf,limiteSup) for i in range(0,tamanyo)]"
   ]
  },
  {
   "cell_type": "code",
   "execution_count": 7,
   "metadata": {},
   "outputs": [
    {
     "data": {
      "text/plain": [
       "[-50, -40, -11, -12, -24, -13, -32, -28, -14, -30, -26, -27, -22, -15]"
      ]
     },
     "execution_count": 7,
     "metadata": {},
     "output_type": "execute_result"
    }
   ],
   "source": [
    "listaPrueba = listaAletorios(-50,-10,14)\n",
    "listaPrueba"
   ]
  },
  {
   "cell_type": "code",
   "execution_count": 9,
   "metadata": {},
   "outputs": [],
   "source": [
    "def promedio(lista):\n",
    "    suma=0\n",
    "    for elemento in lista:\n",
    "        suma=suma+elemento\n",
    "    promedio=suma/len(lista)\n",
    "    return promedio"
   ]
  },
  {
   "cell_type": "code",
   "execution_count": 10,
   "metadata": {},
   "outputs": [
    {
     "data": {
      "text/plain": [
       "-36.5"
      ]
     },
     "execution_count": 10,
     "metadata": {},
     "output_type": "execute_result"
    }
   ],
   "source": [
    "promedio(listaAletorios(-50,-10,14))"
   ]
  },
  {
   "cell_type": "markdown",
   "metadata": {},
   "source": [
    "## Ciclo WHILE"
   ]
  },
  {
   "cell_type": "code",
   "execution_count": 15,
   "metadata": {},
   "outputs": [
    {
     "name": "stdout",
     "output_type": "stream",
     "text": [
      "59\n",
      "89\n"
     ]
    }
   ],
   "source": [
    "a=0\n",
    "while a==0:\n",
    "    aleatorio=rnd.randint(0,100)\n",
    "    print(aleatorio)\n",
    "    if aleatorio > 70:\n",
    "        a=1"
   ]
  },
  {
   "cell_type": "code",
   "execution_count": 18,
   "metadata": {},
   "outputs": [
    {
     "name": "stdout",
     "output_type": "stream",
     "text": [
      "[93, 56, 97, 28, 90, 47, 20, 13, 87, 14] 54.5\n",
      "[62, 71, 36, 25, 88, 24, 39, 23, 66, 81] 51.5\n",
      "[89, 59, 75, 54, 29, 12, 70, 31, 34, 61] 51.4\n",
      "[22, 25, 71, 83, 85, 29, 51, 1, 52, 35] 45.4\n",
      "[31, 21, 45, 59, 82, 45, 25, 87, 59, 6] 46.0\n",
      "[26, 62, 75, 35, 80, 91, 49, 95, 26, 90] 62.9\n"
     ]
    }
   ],
   "source": [
    "lista=[0 for i in range(0,10)]\n",
    "while promedio(lista)<60:\n",
    "    lista=listaAletorios(0,100,10)\n",
    "    print(lista,promedio(lista))"
   ]
  },
  {
   "cell_type": "markdown",
   "metadata": {},
   "source": [
    "## Diccionarios"
   ]
  },
  {
   "cell_type": "markdown",
   "metadata": {},
   "source": [
    "### los diccionarios tienen un identificador propio"
   ]
  },
  {
   "cell_type": "code",
   "execution_count": 20,
   "metadata": {},
   "outputs": [],
   "source": [
    "dict1={'nombres':['Daniel','Alejandro','Jose','Jeremías'],\n",
    "      'apellidos':['Saldarriaga','Serna','Isaza','Arbelaez']}"
   ]
  },
  {
   "cell_type": "code",
   "execution_count": 21,
   "metadata": {},
   "outputs": [
    {
     "data": {
      "text/plain": [
       "dict_keys(['nombres', 'apellidos'])"
      ]
     },
     "execution_count": 21,
     "metadata": {},
     "output_type": "execute_result"
    }
   ],
   "source": [
    "dict1.keys()"
   ]
  },
  {
   "cell_type": "code",
   "execution_count": 22,
   "metadata": {},
   "outputs": [
    {
     "data": {
      "text/plain": [
       "dict_values([['Daniel', 'Alejandro', 'Jose', 'Jeremías'], ['Saldarriaga', 'Serna', 'Isaza', 'Arbelaez']])"
      ]
     },
     "execution_count": 22,
     "metadata": {},
     "output_type": "execute_result"
    }
   ],
   "source": [
    "dict1.values()"
   ]
  },
  {
   "cell_type": "code",
   "execution_count": 23,
   "metadata": {},
   "outputs": [
    {
     "data": {
      "text/plain": [
       "['Daniel', 'Alejandro', 'Jose', 'Jeremías']"
      ]
     },
     "execution_count": 23,
     "metadata": {},
     "output_type": "execute_result"
    }
   ],
   "source": [
    "dict1['nombres']"
   ]
  },
  {
   "cell_type": "code",
   "execution_count": 24,
   "metadata": {},
   "outputs": [
    {
     "data": {
      "text/plain": [
       "['Saldarriaga', 'Serna', 'Isaza', 'Arbelaez']"
      ]
     },
     "execution_count": 24,
     "metadata": {},
     "output_type": "execute_result"
    }
   ],
   "source": [
    "dict1['apellidos']"
   ]
  },
  {
   "cell_type": "code",
   "execution_count": 26,
   "metadata": {},
   "outputs": [
    {
     "name": "stdout",
     "output_type": "stream",
     "text": [
      "{'nombres': ['Daniel', 'Alejandro', 'Jose', 'Jeremías'], 'apellidos': ['Saldarriaga', 'Serna', 'Isaza', 'Arbelaez'], 'edades': [24, 25, 26, 27]}\n"
     ]
    }
   ],
   "source": [
    "dict1['edades']=[24,25,26,27]\n",
    "print(dict1)"
   ]
  },
  {
   "cell_type": "code",
   "execution_count": 29,
   "metadata": {},
   "outputs": [
    {
     "data": {
      "text/plain": [
       "[15, 25, 26, 27]"
      ]
     },
     "execution_count": 29,
     "metadata": {},
     "output_type": "execute_result"
    }
   ],
   "source": [
    "dict1['edades'][0]=15\n",
    "dict1['edades']"
   ]
  },
  {
   "cell_type": "code",
   "execution_count": 30,
   "metadata": {},
   "outputs": [
    {
     "name": "stdout",
     "output_type": "stream",
     "text": [
      "('nombres', ['Daniel', 'Alejandro', 'Jose', 'Jeremías'])\n",
      "('apellidos', ['Saldarriaga', 'Serna', 'Isaza', 'Arbelaez'])\n",
      "('edades', [15, 25, 26, 27])\n"
     ]
    }
   ],
   "source": [
    "for item in dict1.items():\n",
    "    print(item)"
   ]
  },
  {
   "cell_type": "code",
   "execution_count": 31,
   "metadata": {},
   "outputs": [
    {
     "name": "stdout",
     "output_type": "stream",
     "text": [
      "nombres  -  ['Daniel', 'Alejandro', 'Jose', 'Jeremías']\n",
      "apellidos  -  ['Saldarriaga', 'Serna', 'Isaza', 'Arbelaez']\n",
      "edades  -  [15, 25, 26, 27]\n"
     ]
    }
   ],
   "source": [
    "for key in dict1.keys():\n",
    "    print(key,' - ', dict1[key])"
   ]
  },
  {
   "cell_type": "code",
   "execution_count": null,
   "metadata": {},
   "outputs": [],
   "source": []
  }
 ],
 "metadata": {
  "kernelspec": {
   "display_name": "Python 3",
   "language": "python",
   "name": "python3"
  },
  "language_info": {
   "codemirror_mode": {
    "name": "ipython",
    "version": 3
   },
   "file_extension": ".py",
   "mimetype": "text/x-python",
   "name": "python",
   "nbconvert_exporter": "python",
   "pygments_lexer": "ipython3",
   "version": "3.8.5"
  }
 },
 "nbformat": 4,
 "nbformat_minor": 4
}
