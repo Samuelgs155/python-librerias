{
 "cells": [
  {
   "cell_type": "code",
   "execution_count": 1,
   "metadata": {},
   "outputs": [],
   "source": [
    "import numpy as np\n",
    "%matplotlib inline\n",
    "import matplotlib.pyplot as plt"
   ]
  },
  {
   "cell_type": "markdown",
   "metadata": {},
   "source": [
    "# Gráfico de barras"
   ]
  },
  {
   "cell_type": "code",
   "execution_count": 7,
   "metadata": {},
   "outputs": [],
   "source": [
    "ejeX=np.array([1,2,3,4,5,6,7,8,9,10])\n",
    "YBill=np.array([78.8e7,78.6e7,76e7,77.2e7,75e7,76e7,78e7,81e7,86e7,88.9e7])\n",
    "YJeff=np.array([27.2e7,32e7,30.5e7,34.8e7,47.8e7,47e7,45.2e7,66.2e7,67e7,72.8e7])"
   ]
  },
  {
   "cell_type": "code",
   "execution_count": 12,
   "metadata": {},
   "outputs": [
    {
     "data": {
      "image/png": "[encoded data removed]",
      "text/plain": [
       "<Figure size 432x288 with 1 Axes>"
      ]
     },
     "metadata": {
      "needs_background": "light"
     },
     "output_type": "display_data"
    }
   ],
   "source": [
    "ancho_barra=0.25\n",
    "plt.bar(ejeX,YBill,width=ancho_barra,label='Bill Gates')\n",
    "plt.bar(ejeX+ancho_barra,YJeff,width=ancho_barra,label='Jeff Bezos')\n",
    "meses=['Abril 2015','Agosto 2015','Septiembre 2015','Enero 2016','Marzo 2016','Mayo 2016','Agosto 2016','Octubre 2016','Marzo 2017','Junio 2017']\n",
    "plt.xticks(ejeX-0.5,meses,rotation=45)\n",
    "plt.ylabel('Riqueza neta [MUSD$]')\n",
    "plt.grid(True)\n",
    "plt.legend()\n",
    "plt.ylim(0,90e7)\n",
    "plt.show()"
   ]
  },
  {
   "cell_type": "markdown",
   "metadata": {},
   "source": [
    "# Gráfico de línea e histograma"
   ]
  },
  {
   "cell_type": "code",
   "execution_count": 13,
   "metadata": {},
   "outputs": [],
   "source": [
    "import pandas as pd"
   ]
  },
  {
   "cell_type": "code",
   "execution_count": 32,
   "metadata": {},
   "outputs": [
    {
     "data": {
      "text/html": [
       "<div>\n",
       "<style scoped>\n",
       "    .dataframe tbody tr th:only-of-type {\n",
       "        vertical-align: middle;\n",
       "    }\n",
       "\n",
       "    .dataframe tbody tr th {\n",
       "        vertical-align: top;\n",
       "    }\n",
       "\n",
       "    .dataframe thead th {\n",
       "        text-align: right;\n",
       "    }\n",
       "</style>\n",
       "<table border=\"1\" class=\"dataframe\">\n",
       "  <thead>\n",
       "    <tr style=\"text-align: right;\">\n",
       "      <th></th>\n",
       "      <th>CountryName</th>\n",
       "      <th>CountryCode</th>\n",
       "      <th>IndicatorName</th>\n",
       "      <th>IndicatorCode</th>\n",
       "      <th>Year</th>\n",
       "      <th>Value</th>\n",
       "    </tr>\n",
       "  </thead>\n",
       "  <tbody>\n",
       "    <tr>\n",
       "      <th>0</th>\n",
       "      <td>Arab World</td>\n",
       "      <td>ARB</td>\n",
       "      <td>Adolescent fertility rate (births per 1,000 wo...</td>\n",
       "      <td>SP.ADO.TFRT</td>\n",
       "      <td>1960</td>\n",
       "      <td>1.335609e+02</td>\n",
       "    </tr>\n",
       "    <tr>\n",
       "      <th>1</th>\n",
       "      <td>Arab World</td>\n",
       "      <td>ARB</td>\n",
       "      <td>Age dependency ratio (% of working-age populat...</td>\n",
       "      <td>SP.POP.DPND</td>\n",
       "      <td>1960</td>\n",
       "      <td>8.779760e+01</td>\n",
       "    </tr>\n",
       "    <tr>\n",
       "      <th>2</th>\n",
       "      <td>Arab World</td>\n",
       "      <td>ARB</td>\n",
       "      <td>Age dependency ratio, old (% of working-age po...</td>\n",
       "      <td>SP.POP.DPND.OL</td>\n",
       "      <td>1960</td>\n",
       "      <td>6.634579e+00</td>\n",
       "    </tr>\n",
       "    <tr>\n",
       "      <th>3</th>\n",
       "      <td>Arab World</td>\n",
       "      <td>ARB</td>\n",
       "      <td>Age dependency ratio, young (% of working-age ...</td>\n",
       "      <td>SP.POP.DPND.YG</td>\n",
       "      <td>1960</td>\n",
       "      <td>8.102333e+01</td>\n",
       "    </tr>\n",
       "    <tr>\n",
       "      <th>4</th>\n",
       "      <td>Arab World</td>\n",
       "      <td>ARB</td>\n",
       "      <td>Arms exports (SIPRI trend indicator values)</td>\n",
       "      <td>MS.MIL.XPRT.KD</td>\n",
       "      <td>1960</td>\n",
       "      <td>3.000000e+06</td>\n",
       "    </tr>\n",
       "  </tbody>\n",
       "</table>\n",
       "</div>"
      ],
      "text/plain": [
       "  CountryName CountryCode                                      IndicatorName  \\\n",
       "0  Arab World         ARB  Adolescent fertility rate (births per 1,000 wo...   \n",
       "1  Arab World         ARB  Age dependency ratio (% of working-age populat...   \n",
       "2  Arab World         ARB  Age dependency ratio, old (% of working-age po...   \n",
       "3  Arab World         ARB  Age dependency ratio, young (% of working-age ...   \n",
       "4  Arab World         ARB        Arms exports (SIPRI trend indicator values)   \n",
       "\n",
       "    IndicatorCode  Year         Value  \n",
       "0     SP.ADO.TFRT  1960  1.335609e+02  \n",
       "1     SP.POP.DPND  1960  8.779760e+01  \n",
       "2  SP.POP.DPND.OL  1960  6.634579e+00  \n",
       "3  SP.POP.DPND.YG  1960  8.102333e+01  \n",
       "4  MS.MIL.XPRT.KD  1960  3.000000e+06  "
      ]
     },
     "execution_count": 32,
     "metadata": {},
     "output_type": "execute_result"
    }
   ],
   "source": [
    "datos= pd.read_csv('C://Users//Samue//x-anaconda//datos//Datos Banco Mundial//Indicators.csv')\n",
    "datos.head()"
   ]
  },
  {
   "cell_type": "markdown",
   "metadata": {},
   "source": [
    "#### ¿Cuántos datos hay?"
   ]
  },
  {
   "cell_type": "code",
   "execution_count": 18,
   "metadata": {},
   "outputs": [
    {
     "data": {
      "text/plain": [
       "(5656458, 6)"
      ]
     },
     "execution_count": 18,
     "metadata": {},
     "output_type": "execute_result"
    }
   ],
   "source": [
    "datos.shape"
   ]
  },
  {
   "cell_type": "markdown",
   "metadata": {},
   "source": [
    "#### ¿Cuántos países hay en la base de datos?"
   ]
  },
  {
   "cell_type": "code",
   "execution_count": 21,
   "metadata": {},
   "outputs": [
    {
     "data": {
      "text/plain": [
       "247"
      ]
     },
     "execution_count": 21,
     "metadata": {},
     "output_type": "execute_result"
    }
   ],
   "source": [
    "codigosPaises=datos['CountryCode'].unique().tolist()\n",
    "len(codigosPaises)"
   ]
  },
  {
   "cell_type": "markdown",
   "metadata": {},
   "source": [
    "#### ¿Cuáles y cuántos indicadores hay?"
   ]
  },
  {
   "cell_type": "code",
   "execution_count": 24,
   "metadata": {},
   "outputs": [
    {
     "name": "stdout",
     "output_type": "stream",
     "text": [
      "['Adolescent fertility rate (births per 1,000 women ages 15-19)', 'Age dependency ratio (% of working-age population)', 'Age dependency ratio, old (% of working-age population)', 'Age dependency ratio, young (% of working-age population)', 'Arms exports (SIPRI trend indicator values)', 'Arms imports (SIPRI trend indicator values)', 'Birth rate, crude (per 1,000 people)', 'CO2 emissions (kt)', 'CO2 emissions (metric tons per capita)', 'CO2 emissions from gaseous fuel consumption (% of total)', 'CO2 emissions from liquid fuel consumption (% of total)', 'CO2 emissions from liquid fuel consumption (kt)', 'CO2 emissions from solid fuel consumption (% of total)', 'Death rate, crude (per 1,000 people)', 'Fertility rate, total (births per woman)', 'Fixed telephone subscriptions', 'Fixed telephone subscriptions (per 100 people)', 'Hospital beds (per 1,000 people)', 'International migrant stock (% of population)', 'International migrant stock, total', 'Life expectancy at birth, female (years)', 'Life expectancy at birth, male (years)', 'Life expectancy at birth, total (years)', 'Merchandise exports (current US$)', 'Merchandise exports by the reporting economy (current US$)', 'Merchandise exports by the reporting economy, residual (% of total merchandise exports)', 'Merchandise exports to developing economies in East Asia & Pacific (% of total merchandise exports)', 'Merchandise exports to developing economies in Latin America & the Caribbean (% of total merchandise exports)', 'Merchandise exports to developing economies in Middle East & North Africa (% of total merchandise exports)', 'Merchandise exports to developing economies in South Asia (% of total merchandise exports)', 'Merchandise exports to developing economies in Sub-Saharan Africa (% of total merchandise exports)', 'Merchandise exports to developing economies outside region (% of total merchandise exports)', 'Merchandise exports to developing economies within region (% of total merchandise exports)', 'Merchandise exports to economies in the Arab World (% of total merchandise exports)', 'Merchandise exports to high-income economies (% of total merchandise exports)', 'Merchandise imports (current US$)', 'Merchandise imports by the reporting economy (current US$)', 'Merchandise imports by the reporting economy, residual (% of total merchandise imports)', 'Merchandise imports from developing economies in East Asia & Pacific (% of total merchandise imports)', 'Merchandise imports from developing economies in Latin America & the Caribbean (% of total merchandise imports)', 'Merchandise imports from developing economies in Middle East & North Africa (% of total merchandise imports)', 'Merchandise imports from developing economies in South Asia (% of total merchandise imports)', 'Merchandise imports from developing economies in Sub-Saharan Africa (% of total merchandise imports)', 'Merchandise imports from developing economies outside region (% of total merchandise imports)', 'Merchandise imports from developing economies within region (% of total merchandise imports)', 'Merchandise imports from economies in the Arab World (% of total merchandise imports)', 'Merchandise imports from high-income economies (% of total merchandise imports)', 'Merchandise trade (% of GDP)', 'Mobile cellular subscriptions', 'Mobile cellular subscriptions (per 100 people)', 'Mortality rate, adult, female (per 1,000 female adults)', 'Mortality rate, adult, male (per 1,000 male adults)', 'Mortality rate, infant (per 1,000 live births)', 'Mortality rate, under-5 (per 1,000)', 'Net bilateral aid flows from DAC donors, European Union institutions (current US$)', 'Net bilateral aid flows from DAC donors, France (current US$)', 'Net bilateral aid flows from DAC donors, Germany (current US$)', 'Net bilateral aid flows from DAC donors, Italy (current US$)', 'Net bilateral aid flows from DAC donors, Japan (current US$)', 'Net bilateral aid flows from DAC donors, Total (current US$)', 'Net bilateral aid flows from DAC donors, United Kingdom (current US$)', 'Net bilateral aid flows from DAC donors, United States (current US$)', 'Net ODA received per capita (current US$)', 'Net official development assistance and official aid received (constant 2012 US$)', 'Net official development assistance and official aid received (current US$)', 'Net official development assistance received (constant 2012 US$)', 'Net official development assistance received (current US$)', 'Population ages 65 and above (% of total)', 'Population in the largest city (% of urban population)', 'Population in urban agglomerations of more than 1 million (% of total population)', 'Population, ages 0-14 (% of total)', 'Population, ages 15-64 (% of total)', 'Population, female (% of total)', 'Population, total', 'Rural population', 'Rural population (% of total population)', 'Survival to age 65, female (% of cohort)', 'Survival to age 65, male (% of cohort)', 'Urban population', 'Urban population (% of total)', 'Exports of goods and services (current US$)', 'GDP at market prices (current US$)', 'GDP per capita (current US$)', 'GNI (current US$)', 'Gross capital formation (current US$)', 'Net bilateral aid flows from DAC donors, Canada (current US$)', 'Net bilateral aid flows from DAC donors, Netherlands (current US$)', 'Net ODA received (% of GNI)', 'Net ODA received (% of gross capital formation)', 'Alternative and nuclear energy (% of total energy use)', 'CO2 emissions from electricity and heat production, total (% of total fuel combustion)', 'CO2 emissions from manufacturing industries and construction (% of total fuel combustion)', 'CO2 emissions from other sectors, excluding residential buildings and commercial and public services (% of total fuel combustion)', 'CO2 emissions from residential buildings and commercial and public services (% of total fuel combustion)', 'CO2 emissions from solid fuel consumption (kt)', 'CO2 emissions from transport (% of total fuel combustion)', 'CO2 intensity (kg per kg of oil equivalent energy use)', 'Combustible renewables and waste (% of total energy)', 'Electric power transmission and distribution losses (% of output)', 'Electricity production from renewable sources, excluding hydroelectric (kWh)']\n"
     ]
    },
    {
     "data": {
      "text/plain": [
       "1344"
      ]
     },
     "execution_count": 24,
     "metadata": {},
     "output_type": "execute_result"
    }
   ],
   "source": [
    "indicadores = datos['IndicatorName'].unique().tolist()\n",
    "print(indicadores[:100])\n",
    "len(indicadores)\n"
   ]
  },
  {
   "cell_type": "markdown",
   "metadata": {},
   "source": [
    "#### ¿Cuántos años de datos hay?"
   ]
  },
  {
   "cell_type": "code",
   "execution_count": 26,
   "metadata": {},
   "outputs": [
    {
     "data": {
      "text/plain": [
       "56"
      ]
     },
     "execution_count": 26,
     "metadata": {},
     "output_type": "execute_result"
    }
   ],
   "source": [
    "anyos = datos['Year'].unique().tolist()\n",
    "len(anyos)"
   ]
  },
  {
   "cell_type": "markdown",
   "metadata": {},
   "source": [
    "#### ¿Qué rango de años?"
   ]
  },
  {
   "cell_type": "code",
   "execution_count": 27,
   "metadata": {},
   "outputs": [
    {
     "name": "stdout",
     "output_type": "stream",
     "text": [
      "1960  -  2015\n"
     ]
    }
   ],
   "source": [
    "print(min(anyos),' - ',max(anyos))"
   ]
  },
  {
   "cell_type": "markdown",
   "metadata": {},
   "source": [
    "#### Visualizacion de datos"
   ]
  },
  {
   "cell_type": "code",
   "execution_count": 34,
   "metadata": {},
   "outputs": [
    {
     "data": {
      "text/html": [
       "<div>\n",
       "<style scoped>\n",
       "    .dataframe tbody tr th:only-of-type {\n",
       "        vertical-align: middle;\n",
       "    }\n",
       "\n",
       "    .dataframe tbody tr th {\n",
       "        vertical-align: top;\n",
       "    }\n",
       "\n",
       "    .dataframe thead th {\n",
       "        text-align: right;\n",
       "    }\n",
       "</style>\n",
       "<table border=\"1\" class=\"dataframe\">\n",
       "  <thead>\n",
       "    <tr style=\"text-align: right;\">\n",
       "      <th></th>\n",
       "      <th>CountryName</th>\n",
       "      <th>CountryCode</th>\n",
       "      <th>IndicatorName</th>\n",
       "      <th>IndicatorCode</th>\n",
       "      <th>Year</th>\n",
       "      <th>Value</th>\n",
       "    </tr>\n",
       "  </thead>\n",
       "  <tbody>\n",
       "    <tr>\n",
       "      <th>7274</th>\n",
       "      <td>Colombia</td>\n",
       "      <td>COL</td>\n",
       "      <td>CO2 emissions (metric tons per capita)</td>\n",
       "      <td>EN.ATM.CO2E.PC</td>\n",
       "      <td>1960</td>\n",
       "      <td>0.995719</td>\n",
       "    </tr>\n",
       "    <tr>\n",
       "      <th>31608</th>\n",
       "      <td>Colombia</td>\n",
       "      <td>COL</td>\n",
       "      <td>CO2 emissions (metric tons per capita)</td>\n",
       "      <td>EN.ATM.CO2E.PC</td>\n",
       "      <td>1961</td>\n",
       "      <td>1.072743</td>\n",
       "    </tr>\n",
       "    <tr>\n",
       "      <th>58794</th>\n",
       "      <td>Colombia</td>\n",
       "      <td>COL</td>\n",
       "      <td>CO2 emissions (metric tons per capita)</td>\n",
       "      <td>EN.ATM.CO2E.PC</td>\n",
       "      <td>1962</td>\n",
       "      <td>1.110986</td>\n",
       "    </tr>\n",
       "    <tr>\n",
       "      <th>87176</th>\n",
       "      <td>Colombia</td>\n",
       "      <td>COL</td>\n",
       "      <td>CO2 emissions (metric tons per capita)</td>\n",
       "      <td>EN.ATM.CO2E.PC</td>\n",
       "      <td>1963</td>\n",
       "      <td>1.178781</td>\n",
       "    </tr>\n",
       "    <tr>\n",
       "      <th>115902</th>\n",
       "      <td>Colombia</td>\n",
       "      <td>COL</td>\n",
       "      <td>CO2 emissions (metric tons per capita)</td>\n",
       "      <td>EN.ATM.CO2E.PC</td>\n",
       "      <td>1964</td>\n",
       "      <td>1.168264</td>\n",
       "    </tr>\n",
       "  </tbody>\n",
       "</table>\n",
       "</div>"
      ],
      "text/plain": [
       "       CountryName CountryCode                           IndicatorName  \\\n",
       "7274      Colombia         COL  CO2 emissions (metric tons per capita)   \n",
       "31608     Colombia         COL  CO2 emissions (metric tons per capita)   \n",
       "58794     Colombia         COL  CO2 emissions (metric tons per capita)   \n",
       "87176     Colombia         COL  CO2 emissions (metric tons per capita)   \n",
       "115902    Colombia         COL  CO2 emissions (metric tons per capita)   \n",
       "\n",
       "         IndicatorCode  Year     Value  \n",
       "7274    EN.ATM.CO2E.PC  1960  0.995719  \n",
       "31608   EN.ATM.CO2E.PC  1961  1.072743  \n",
       "58794   EN.ATM.CO2E.PC  1962  1.110986  \n",
       "87176   EN.ATM.CO2E.PC  1963  1.178781  \n",
       "115902  EN.ATM.CO2E.PC  1964  1.168264  "
      ]
     },
     "execution_count": 34,
     "metadata": {},
     "output_type": "execute_result"
    }
   ],
   "source": [
    "indicador='CO2 emissions \\(metric tons per capita'\n",
    "pais='COL'\n",
    "\n",
    "filtro1=datos['IndicatorName'].str.contains(indicador)\n",
    "filtro2=datos['CountryCode'].str.contains(pais)\n",
    "\n",
    "datosFiltrados=datos[filtro1 & filtro2]\n",
    "datosFiltrados.head()"
   ]
  },
  {
   "cell_type": "markdown",
   "metadata": {},
   "source": [
    "#### Gráfico de barras"
   ]
  },
  {
   "cell_type": "code",
   "execution_count": 36,
   "metadata": {},
   "outputs": [
    {
     "name": "stdout",
     "output_type": "stream",
     "text": [
      "<class 'numpy.ndarray'>\n"
     ]
    },
    {
     "data": {
      "image/png": "[encoded data removed]",
      "text/plain": [
       "<Figure size 432x288 with 1 Axes>"
      ]
     },
     "metadata": {
      "needs_background": "light"
     },
     "output_type": "display_data"
    }
   ],
   "source": [
    "años=datosFiltrados['Year'].values\n",
    "co2=datosFiltrados['Value'].values\n",
    "print(type(años))\n",
    "plt.bar(años,co2)\n",
    "plt.show()"
   ]
  },
  {
   "cell_type": "markdown",
   "metadata": {},
   "source": [
    "#### Gráfico de línea"
   ]
  },
  {
   "cell_type": "code",
   "execution_count": 38,
   "metadata": {},
   "outputs": [
    {
     "data": {
      "image/png": "[encoded data removed]",
      "text/plain": [
       "<Figure size 432x288 with 1 Axes>"
      ]
     },
     "metadata": {
      "needs_background": "light"
     },
     "output_type": "display_data"
    }
   ],
   "source": [
    "plt.plot(años, co2)\n",
    "\n",
    "plt.xlabel('Year')\n",
    "plt.ylabel(datosFiltrados['IndicatorName'].iloc[0])\n",
    "\n",
    "plt.title('Emisiones de CO2 en ' + pais)\n",
    "# [Xmin,Xmax,Ymin,Ymax]\n",
    "plt.axis([1959,2011,0,2])\n",
    "\n",
    "plt.show()"
   ]
  },
  {
   "cell_type": "markdown",
   "metadata": {},
   "source": [
    "#### Histograma"
   ]
  },
  {
   "cell_type": "code",
   "execution_count": 41,
   "metadata": {},
   "outputs": [
    {
     "data": {
      "image/png": "[encoded data removed]",
      "text/plain": [
       "<Figure size 432x288 with 1 Axes>"
      ]
     },
     "metadata": {
      "needs_background": "light"
     },
     "output_type": "display_data"
    }
   ],
   "source": [
    "plt.hist(datosFiltrados['Value'].values, 10, facecolor='green')\n",
    "\n",
    "plt.xlabel(datosFiltrados['IndicatorName'].iloc[0])\n",
    "plt.ylabel('# de años')\n",
    "plt.title('Ejemplo de histograma')\n",
    "\n",
    "plt.grid(True)\n",
    "\n",
    "plt.show()"
   ]
  },
  {
   "cell_type": "markdown",
   "metadata": {},
   "source": [
    "#### Gráfico de dispersión"
   ]
  },
  {
   "cell_type": "code",
   "execution_count": 45,
   "metadata": {},
   "outputs": [
    {
     "name": "stdout",
     "output_type": "stream",
     "text": [
      "55  -  52\n"
     ]
    },
    {
     "data": {
      "text/plain": [
       "<matplotlib.collections.PathCollection at 0x2eb0638f070>"
      ]
     },
     "execution_count": 45,
     "metadata": {},
     "output_type": "execute_result"
    },
    {
     "data": {
      "image/png": "[encoded data removed]",
      "text/plain": [
       "<Figure size 432x288 with 1 Axes>"
      ]
     },
     "metadata": {
      "needs_background": "light"
     },
     "output_type": "display_data"
    }
   ],
   "source": [
    "indicador1='Population, total'\n",
    "indicador2='CO2 emissions \\(kt'\n",
    "pais='COL'\n",
    "\n",
    "filtro1=datos['IndicatorName'].str.contains(indicador1)\n",
    "filtro2=datos['CountryCode'].str.contains(pais)\n",
    "\n",
    "datosInd1=datos[filtro1 & filtro2]\n",
    "\n",
    "filtro1=datos['IndicatorName'].str.contains(indicador2)\n",
    "filtro2=datos['CountryCode'].str.contains(pais)\n",
    "\n",
    "datosInd2=datos[filtro1 & filtro2]\n",
    "\n",
    "X=datosInd1['Value'].values\n",
    "Y=datosInd2['Value'].values\n",
    "\n",
    "print(len(X),' - ',len(Y))\n",
    "limite=min(len(X),len(Y))\n",
    "\n",
    "plt.xlabel(indicador1)\n",
    "plt.ylabel(indicador2)\n",
    "plt.title(indicador1 + \" vs \" + indicador2 + \" in \" + pais)\n",
    "\n",
    "plt.scatter(X[:limite],Y[:limite])"
   ]
  },
  {
   "cell_type": "code",
   "execution_count": 46,
   "metadata": {},
   "outputs": [
    {
     "data": {
      "text/plain": [
       "array([[1.        , 0.95435265],\n",
       "       [0.95435265, 1.        ]])"
      ]
     },
     "execution_count": 46,
     "metadata": {},
     "output_type": "execute_result"
    }
   ],
   "source": [
    "np.corrcoef(X[:limite],Y[:limite])"
   ]
  },
  {
   "cell_type": "markdown",
   "metadata": {},
   "source": [
    "#### Gráfico de dispersión 2"
   ]
  },
  {
   "cell_type": "code",
   "execution_count": 47,
   "metadata": {},
   "outputs": [],
   "source": [
    "from sklearn import datasets"
   ]
  },
  {
   "cell_type": "code",
   "execution_count": 48,
   "metadata": {},
   "outputs": [],
   "source": [
    "iris = datasets.load_iris()"
   ]
  },
  {
   "cell_type": "code",
   "execution_count": 53,
   "metadata": {},
   "outputs": [
    {
     "name": "stdout",
     "output_type": "stream",
     "text": [
      "[[5.1 3.5 1.4 0.2]\n",
      " [4.9 3.  1.4 0.2]\n",
      " [4.7 3.2 1.3 0.2]\n",
      " [4.6 3.1 1.5 0.2]\n",
      " [5.  3.6 1.4 0.2]\n",
      " [5.4 3.9 1.7 0.4]\n",
      " [4.6 3.4 1.4 0.3]\n",
      " [5.  3.4 1.5 0.2]\n",
      " [4.4 2.9 1.4 0.2]\n",
      " [4.9 3.1 1.5 0.1]]  -  [0 0 0 0 0 0 0 0 0 0]\n"
     ]
    }
   ],
   "source": [
    "print(iris.data[:10,:],' - ', iris.target[:10])"
   ]
  },
  {
   "cell_type": "code",
   "execution_count": 50,
   "metadata": {},
   "outputs": [
    {
     "data": {
      "text/plain": [
       "numpy.ndarray"
      ]
     },
     "execution_count": 50,
     "metadata": {},
     "output_type": "execute_result"
    }
   ],
   "source": [
    "X=iris.data[:,2]\n",
    "type(X)"
   ]
  },
  {
   "cell_type": "code",
   "execution_count": 51,
   "metadata": {},
   "outputs": [],
   "source": [
    "Y=iris.data[:,3]"
   ]
  },
  {
   "cell_type": "code",
   "execution_count": 52,
   "metadata": {},
   "outputs": [
    {
     "data": {
      "image/png": "[encoded data removed]",
      "text/plain": [
       "<Figure size 432x288 with 1 Axes>"
      ]
     },
     "metadata": {
      "needs_background": "light"
     },
     "output_type": "display_data"
    }
   ],
   "source": [
    "colors=iris.target\n",
    "plt.scatter(X,Y,c=colors)\n",
    "plt.grid(True)\n",
    "plt.show()"
   ]
  },
  {
   "cell_type": "code",
   "execution_count": null,
   "metadata": {},
   "outputs": [],
   "source": [
    "X=iris.data[:,2]"
   ]
  }
 ],
 "metadata": {
  "kernelspec": {
   "display_name": "Python 3",
   "language": "python",
   "name": "python3"
  },
  "language_info": {
   "codemirror_mode": {
    "name": "ipython",
    "version": 3
   },
   "file_extension": ".py",
   "mimetype": "text/x-python",
   "name": "python",
   "nbconvert_exporter": "python",
   "pygments_lexer": "ipython3",
   "version": "3.8.5"
  }
 },
 "nbformat": 4,
 "nbformat_minor": 4
}
