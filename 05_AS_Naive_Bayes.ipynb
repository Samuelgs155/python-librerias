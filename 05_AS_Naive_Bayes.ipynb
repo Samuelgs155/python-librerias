{
 "cells": [
  {
   "cell_type": "markdown",
   "metadata": {},
   "source": [
    "# Aprendizaje supervisado"
   ]
  },
  {
   "cell_type": "markdown",
   "metadata": {},
   "source": [
    "El aprendizaje supervisado se puede dividir en 2 grandes tipos de aprendizaje: Supervisado y No supervisado"
   ]
  },
  {
   "cell_type": "markdown",
   "metadata": {},
   "source": [
    "No supervisado: La información no está clasificada o no tiene rótulos (labels)"
   ]
  },
  {
   "cell_type": "markdown",
   "metadata": {},
   "source": [
    "Supervisado: La información está clasificada claramente con rótulos (labels)"
   ]
  },
  {
   "cell_type": "markdown",
   "metadata": {},
   "source": [
    "El objetivo de aprendizaje supervisado es predecir el comportamiento de un sistema a partir de un set de datos que tienen comportamientos que representan una función específica."
   ]
  },
  {
   "cell_type": "markdown",
   "metadata": {},
   "source": [
    "# Aprendizaje usando texto"
   ]
  },
  {
   "cell_type": "markdown",
   "metadata": {},
   "source": [
    "Después del triunfo 3-2 ante Millonarios en el Atanasio Girardot, Nacional quedó pendiente de disputar 9 partidos, 4 de ellos como local. Si mantiene su rendimiento , que es del 66,6%, no tendrá problemas para asegurarse estar entre los 8 mejores de la Liga Aguila-2."
   ]
  },
  {
   "cell_type": "markdown",
   "metadata": {},
   "source": [
    "a) Politica\n",
    "b) Ciencia\n",
    "c) Deportes\n",
    "d) Tecnología"
   ]
  },
  {
   "cell_type": "markdown",
   "metadata": {},
   "source": [
    "# Naive Bayes"
   ]
  },
  {
   "cell_type": "markdown",
   "metadata": {},
   "source": [
    "Es un algoritmo que se basa en la ley de la probabilidad condicional de Bayes."
   ]
  },
  {
   "cell_type": "markdown",
   "metadata": {},
   "source": [
    "Este algoritmo es muy bueno para procesar texto."
   ]
  },
  {
   "cell_type": "markdown",
   "metadata": {},
   "source": [
    "No es muy bueno para frases que tienen significados diferentes, como por ejemplo \"Manchester united\", que es un equipo de fútbol y no es ni una ciudad ni una palabra de unidad."
   ]
  },
  {
   "cell_type": "markdown",
   "metadata": {},
   "source": [
    "Para usar este algoritmo y otros, debemos seguir siempre 4 pasos:\n",
    "\n",
    "1. Importar el algoritmo\n",
    "2. Crear el clasificador\n",
    "3. Entrenar el clasificador\n",
    "4. Hacer predicciones"
   ]
  },
  {
   "cell_type": "markdown",
   "metadata": {},
   "source": [
    "En Scikit Learn, el algoritmo se conoce como GaussianNB"
   ]
  },
  {
   "cell_type": "markdown",
   "metadata": {},
   "source": [
    "### Ejemplo"
   ]
  },
  {
   "cell_type": "code",
   "execution_count": 3,
   "metadata": {},
   "outputs": [],
   "source": [
    "# 1.Importar el algoritmo\n",
    "from sklearn.naive_bayes import GaussianNB\n",
    "import numpy as np"
   ]
  },
  {
   "cell_type": "code",
   "execution_count": 8,
   "metadata": {},
   "outputs": [],
   "source": [
    "# creamos un ejemplo para clasificar caballos y cebras segun su largo y alto\n",
    "\n",
    "# X van a ser los atributos de nuestro set de datos\n",
    "# supongamos que de cada animal tenemos las 2 características\n",
    "# es un array con los dos datos\n",
    "X = np.array([[2.1,2.0],[2.3,1.9],[2.0,2.5],[1.9,2.6],[2.0,2.2],[2.0,2.0]])\n",
    "\n",
    "# en la variable Y vamos a tener los rotulos de nuestros animales\n",
    "# 1 es un caballo y un 2 es una cebra\n",
    "Y = np.array([1,1,2,2,2,1])"
   ]
  },
  {
   "cell_type": "code",
   "execution_count": 9,
   "metadata": {},
   "outputs": [],
   "source": [
    "# 2. Creamos el clasificador\n",
    "clf = GaussianNB()"
   ]
  },
  {
   "cell_type": "code",
   "execution_count": 10,
   "metadata": {},
   "outputs": [
    {
     "data": {
      "text/plain": [
       "GaussianNB()"
      ]
     },
     "execution_count": 10,
     "metadata": {},
     "output_type": "execute_result"
    }
   ],
   "source": [
    "# 3. Entrenamos el clasificador\n",
    "# la funcion fit recibe como argumento, los datos con los que vamos a entrenar nuestro algoritmo\n",
    "clf.fit(X,Y)"
   ]
  },
  {
   "cell_type": "code",
   "execution_count": null,
   "metadata": {},
   "outputs": [],
   "source": [
    "# 4. Hagamos una pred"
   ]
  }
 ],
 "metadata": {
  "kernelspec": {
   "display_name": "Python 3",
   "language": "python",
   "name": "python3"
  },
  "language_info": {
   "codemirror_mode": {
    "name": "ipython",
    "version": 3
   },
   "file_extension": ".py",
   "mimetype": "text/x-python",
   "name": "python",
   "nbconvert_exporter": "python",
   "pygments_lexer": "ipython3",
   "version": "3.8.5"
  }
 },
 "nbformat": 4,
 "nbformat_minor": 4
}
