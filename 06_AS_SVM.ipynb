{
 "cells": [
  {
   "cell_type": "markdown",
   "metadata": {},
   "source": [
    "# Máquinas de vector soporte (SVM)"
   ]
  },
  {
   "cell_type": "markdown",
   "metadata": {},
   "source": [
    "Son algoritmos que su entrada son datos y su salida son líneas que separan los datos"
   ]
  },
  {
   "cell_type": "markdown",
   "metadata": {},
   "source": [
    "Ahora bien, hay líneas que separan los datos mejor que otras, y las que mejor separan los datos son aquellas donde se maximiza la distancia al punto más cercano EN TODAS AMBAS DE DATOS, y esto se conoce como margen. Entre mator sea la margen --> Se garantiza la ROBUSTEZ del algoritmo."
   ]
  },
  {
   "cell_type": "markdown",
   "metadata": {},
   "source": [
    "Las SVM ponen como primer objetivo la correcta clasificacion de los datos y como segundo objetivo la maximizacion de la margen."
   ]
  },
  {
   "cell_type": "markdown",
   "metadata": {},
   "source": [
    "Las ventajas de una SVM:\n",
    "1. Eficaz cuando hay una alta dimensión.\n",
    "2. Eficaz cuando hay más dimensiones que el número de muestras.\n",
    "3. Es eficiente en la memoria.\n",
    "\n",
    "Una de sus desventajas:\n",
    "1. Si el número de características (labels) es mucho mayor que el número de muestras, puede dar un rendimiento pobre."
   ]
  },
  {
   "cell_type": "markdown",
   "metadata": {},
   "source": [
    "Para usar este algoritmo:\n",
    "1. Importar el algoritmo\n",
    "2. Crear el clasificador\n",
    "3. Entrenar el clasificador\n",
    "4. Realizar predicciones"
   ]
  },
  {
   "cell_type": "code",
   "execution_count": 1,
   "metadata": {},
   "outputs": [],
   "source": [
    "# 1. Importamos el algoritmo SVM y un set de datos para trabajar con ellos\n",
    "from sklearn import svm, datasets\n",
    "import numpy as np\n",
    "import matplotlib.pyplot as plt\n",
    "\n",
    "# datos de las plantas\n",
    "iris = datasets.load_iris()\n",
    "# datos de las plantas ancho y largo de la hoja\n",
    "X = iris.data[:,:2]\n",
    "# tipos de plantas (labels): 0, 1 y 2\n",
    "Y = iris.target"
   ]
  },
  {
   "cell_type": "code",
   "execution_count": 2,
   "metadata": {},
   "outputs": [],
   "source": [
    "# 2. Creamos el clasificador\n",
    "clf = svm.SVC(kernel='linear')"
   ]
  },
  {
   "cell_type": "code",
   "execution_count": 3,
   "metadata": {},
   "outputs": [
    {
     "data": {
      "text/plain": [
       "SVC(kernel='linear')"
      ]
     },
     "execution_count": 3,
     "metadata": {},
     "output_type": "execute_result"
    }
   ],
   "source": [
    "# 3. Entrenamos el algoritmo\n",
    "clf.fit(X,Y)"
   ]
  },
  {
   "cell_type": "code",
   "execution_count": null,
   "metadata": {},
   "outputs": [],
   "source": [
    "# En este caso vemos la visualizacion\n",
    "\n",
    "plt.scatter(X[:,0], X[:1], c=y)\n",
    "plt.xlabel('Largo de la hoja')\n",
    "plt.ylabel('Ancho de la hoja')\n",
    "plt.title('SVM con Kernel lineal')"
   ]
  }
 ],
 "metadata": {
  "kernelspec": {
   "display_name": "Python 3",
   "language": "python",
   "name": "python3"
  },
  "language_info": {
   "codemirror_mode": {
    "name": "ipython",
    "version": 3
   },
   "file_extension": ".py",
   "mimetype": "text/x-python",
   "name": "python",
   "nbconvert_exporter": "python",
   "pygments_lexer": "ipython3",
   "version": "3.8.5"
  }
 },
 "nbformat": 4,
 "nbformat_minor": 4
}
