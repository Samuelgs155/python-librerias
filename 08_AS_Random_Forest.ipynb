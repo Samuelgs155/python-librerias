{
 "cells": [
  {
   "cell_type": "markdown",
   "metadata": {},
   "source": [
    "# Random Forest"
   ]
  },
  {
   "cell_type": "markdown",
   "metadata": {},
   "source": [
    "Mejor que usar un algoritmo, sería poder usar múltiples algoritmos y sacar lo mejor de cada uno.\n",
    "Este algoritmo combina varios árboles de decisión y cada uno es entrenado en una porción aleatoria de los datos de entrada."
   ]
  },
  {
   "cell_type": "markdown",
   "metadata": {},
   "source": [
    "Es se hace con el objetivo de mejorar la robustez del algoritmo.\n",
    "\n",
    "Existen muchos otros métodos de combinación de algoritmos y se conocen como métodos ensamblados (Ensamble methods como Adaboost)"
   ]
  },
  {
   "cell_type": "markdown",
   "metadata": {},
   "source": [
    "Para usar este algoritmo:\n",
    "\n",
    "1. Importar el algoritmo\n",
    "2. Crear el clasificador\n",
    "3. Entrenar el clasificador\n",
    "4. Realizar predicciones"
   ]
  },
  {
   "cell_type": "code",
   "execution_count": 1,
   "metadata": {},
   "outputs": [],
   "source": [
    "# 1. importamos el algoritmo\n",
    "from sklearn import datasets\n",
    "from sklearn.ensemble import RandomForestClassifier\n",
    "import numpy as np\n",
    "\n",
    "# vamos a usar datos de unas plantas\n",
    "iris = datasets.load_iris()\n",
    "# almacenamos todas las características de las plantas en X\n",
    "X = iris.data\n",
    "# almacenamos su clasificacion por tipo (labels): 0, 1 y 2\n",
    "Y = iris.target"
   ]
  },
  {
   "cell_type": "code",
   "execution_count": 2,
   "metadata": {},
   "outputs": [],
   "source": [
    "# Generalmente todo nuestro set de datos no se debe usar para entrenar nuestro algoritmo\n",
    "# la idea es poder también revisar la precisión del mismo\n",
    "# entonces debemos partir nuestros datos en datos de entrenamiento y en los de prueba\n",
    "from sklearn.model_selection import train_test_split\n",
    "X_train, X_test, y_train, y_test = train_test_split(X,Y,random_state=0)"
   ]
  },
  {
   "cell_type": "code",
   "execution_count": null,
   "metadata": {},
   "outputs": [],
   "source": [
    "# creamos nuestro clasificador, donde n_estimators es el número "
   ]
  }
 ],
 "metadata": {
  "kernelspec": {
   "display_name": "Python 3",
   "language": "python",
   "name": "python3"
  },
  "language_info": {
   "codemirror_mode": {
    "name": "ipython",
    "version": 3
   },
   "file_extension": ".py",
   "mimetype": "text/x-python",
   "name": "python",
   "nbconvert_exporter": "python",
   "pygments_lexer": "ipython3",
   "version": "3.8.5"
  }
 },
 "nbformat": 4,
 "nbformat_minor": 4
}
